{
 "cells": [
  {
   "cell_type": "code",
   "execution_count": 8,
   "metadata": {},
   "outputs": [
    {
     "data": {
      "image/png": "[encoded data removed]",
      "text/plain": [
       "<Figure size 432x288 with 1 Axes>"
      ]
     },
     "metadata": {
      "needs_background": "light"
     },
     "output_type": "display_data"
    },
    {
     "data": {
      "text/plain": [
       "<matplotlib.collections.PathCollection at 0x456a350>"
      ]
     },
     "execution_count": 8,
     "metadata": {},
     "output_type": "execute_result"
    }
   ],
   "source": [
    "import matplotlib.pyplot as plt\n",
    "\n",
    "def plot_data(my_file):\n",
    "    # Read data from file and extract x and y values\n",
    "    with open(my_file, 'r') as file:\n",
    "        lines = file.readlines()[1:] \n",
    "        # Skip the first line\n",
    "        x = [float(line.split(',')[0]) for line in lines]\n",
    "        y = [float(line.split(',')[1]) for line in lines]\n",
    "\n",
    "    # Create scatter plot\n",
    "    scatter_plot = plt.scatter(x, y)\n",
    "    plt.xlabel('X')\n",
    "    plt.ylabel('Y')\n",
    "    plt.title('Scatter Plot')\n",
    "    plt.grid(False)\n",
    "    plt.show()\n",
    "\n",
    "    return scatter_plot\n",
    "\n",

    "# Example usage\n",
    "my_file = 'x_y_coordinates.txt'\n",
    "plot_data(my_file)\n"
   ]
  },
  {
   "cell_type": "code",
   "execution_count": null,
   "metadata": {},
   "outputs": [],
   "source": []
  }
 ],
 "metadata": {
  "kernelspec": {
   "display_name": "Python 3",
   "language": "python",
   "name": "python3"
  },
  "language_info": {
   "codemirror_mode": {
    "name": "ipython",
    "version": 3
   },
   "file_extension": ".py",
   "mimetype": "text/x-python",
   "name": "python",
   "nbconvert_exporter": "python",
   "pygments_lexer": "ipython3",
   "version": "3.7.6"
  }
 },
 "nbformat": 4,
 "nbformat_minor": 4
}
